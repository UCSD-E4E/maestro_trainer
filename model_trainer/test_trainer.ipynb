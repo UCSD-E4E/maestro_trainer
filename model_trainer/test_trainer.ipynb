{
 "cells": [
  {
   "cell_type": "code",
   "execution_count": 2,
   "metadata": {},
   "outputs": [],
   "source": [
    "import torch.nn as nn"
   ]
  },
  {
   "cell_type": "code",
   "execution_count": 3,
   "metadata": {},
   "outputs": [],
   "source": [
    "from model import Trainer"
   ]
  },
  {
   "cell_type": "code",
   "execution_count": 4,
   "metadata": {},
   "outputs": [],
   "source": [
    "cfg = {\n",
    "    \"data_path\": \"C:/Users/seanh/Desktop/E4E/maestro/data/DeepFish/Classification\",\n",
    "    \"model_name\": \"efficientnet_b0\",\n",
    "    \"model_checkpoint\": \"model.pt\",\n",
    "    \"learning_rate\": 0.001\n",
    "}"
   ]
  },
  {
   "cell_type": "code",
   "execution_count": 5,
   "metadata": {},
   "outputs": [],
   "source": [
    "import pandas as pd"
   ]
  },
  {
   "cell_type": "code",
   "execution_count": 6,
   "metadata": {},
   "outputs": [
    {
     "data": {
      "text/html": [
       "<div>\n",
       "<style scoped>\n",
       "    .dataframe tbody tr th:only-of-type {\n",
       "        vertical-align: middle;\n",
       "    }\n",
       "\n",
       "    .dataframe tbody tr th {\n",
       "        vertical-align: top;\n",
       "    }\n",
       "\n",
       "    .dataframe thead th {\n",
       "        text-align: right;\n",
       "    }\n",
       "</style>\n",
       "<table border=\"1\" class=\"dataframe\">\n",
       "  <thead>\n",
       "    <tr style=\"text-align: right;\">\n",
       "      <th></th>\n",
       "      <th>ID</th>\n",
       "      <th>habitats</th>\n",
       "      <th>labels</th>\n",
       "      <th>classes</th>\n",
       "      <th>frames</th>\n",
       "      <th>file</th>\n",
       "    </tr>\n",
       "  </thead>\n",
       "  <tbody>\n",
       "    <tr>\n",
       "      <th>13625</th>\n",
       "      <td>7426/valid/7426_F3_f000035</td>\n",
       "      <td>7426</td>\n",
       "      <td>1</td>\n",
       "      <td>valid</td>\n",
       "      <td>7426_F3_f000035</td>\n",
       "      <td>7426/valid/7426_F3_f000035.jpg</td>\n",
       "    </tr>\n",
       "    <tr>\n",
       "      <th>26181</th>\n",
       "      <td>7490/valid/7490_F4_f000159</td>\n",
       "      <td>7490</td>\n",
       "      <td>1</td>\n",
       "      <td>valid</td>\n",
       "      <td>7490_F4_f000159</td>\n",
       "      <td>7490/valid/7490_F4_f000159.jpg</td>\n",
       "    </tr>\n",
       "    <tr>\n",
       "      <th>24443</th>\n",
       "      <td>7482/valid/7482_F2_f000591</td>\n",
       "      <td>7482</td>\n",
       "      <td>1</td>\n",
       "      <td>valid</td>\n",
       "      <td>7482_F2_f000591</td>\n",
       "      <td>7482/valid/7482_F2_f000591.jpg</td>\n",
       "    </tr>\n",
       "    <tr>\n",
       "      <th>2675</th>\n",
       "      <td>7268/valid/7268_F1_f000556</td>\n",
       "      <td>7268</td>\n",
       "      <td>1</td>\n",
       "      <td>valid</td>\n",
       "      <td>7268_F1_f000556</td>\n",
       "      <td>7268/valid/7268_F1_f000556.jpg</td>\n",
       "    </tr>\n",
       "    <tr>\n",
       "      <th>18005</th>\n",
       "      <td>7463/empty/7463_NF4_f000665</td>\n",
       "      <td>7463</td>\n",
       "      <td>0</td>\n",
       "      <td>empty</td>\n",
       "      <td>7463_NF4_f000665</td>\n",
       "      <td>7463/empty/7463_NF4_f000665.jpg</td>\n",
       "    </tr>\n",
       "    <tr>\n",
       "      <th>...</th>\n",
       "      <td>...</td>\n",
       "      <td>...</td>\n",
       "      <td>...</td>\n",
       "      <td>...</td>\n",
       "      <td>...</td>\n",
       "      <td>...</td>\n",
       "    </tr>\n",
       "    <tr>\n",
       "      <th>17326</th>\n",
       "      <td>7463/empty/7463_NF3_f000461</td>\n",
       "      <td>7463</td>\n",
       "      <td>0</td>\n",
       "      <td>empty</td>\n",
       "      <td>7463_NF3_f000461</td>\n",
       "      <td>7463/empty/7463_NF3_f000461.jpg</td>\n",
       "    </tr>\n",
       "    <tr>\n",
       "      <th>35029</th>\n",
       "      <td>9894/empty/9894_no_fish_2_f000113</td>\n",
       "      <td>9894</td>\n",
       "      <td>0</td>\n",
       "      <td>empty</td>\n",
       "      <td>9894_no_fish_2_f000113</td>\n",
       "      <td>9894/empty/9894_no_fish_2_f000113.jpg</td>\n",
       "    </tr>\n",
       "    <tr>\n",
       "      <th>28084</th>\n",
       "      <td>7585/empty/7585_NF2_f000876</td>\n",
       "      <td>7585</td>\n",
       "      <td>0</td>\n",
       "      <td>empty</td>\n",
       "      <td>7585_NF2_f000876</td>\n",
       "      <td>7585/empty/7585_NF2_f000876.jpg</td>\n",
       "    </tr>\n",
       "    <tr>\n",
       "      <th>33375</th>\n",
       "      <td>9866/valid/9866_acanthopagrus_and_caranx_f000204</td>\n",
       "      <td>9866</td>\n",
       "      <td>1</td>\n",
       "      <td>valid</td>\n",
       "      <td>9866_acanthopagrus_and_caranx_f000204</td>\n",
       "      <td>9866/valid/9866_acanthopagrus_and_caranx_f0002...</td>\n",
       "    </tr>\n",
       "    <tr>\n",
       "      <th>26928</th>\n",
       "      <td>7490/valid/7490_F6_f000165</td>\n",
       "      <td>7490</td>\n",
       "      <td>1</td>\n",
       "      <td>valid</td>\n",
       "      <td>7490_F6_f000165</td>\n",
       "      <td>7490/valid/7490_F6_f000165.jpg</td>\n",
       "    </tr>\n",
       "  </tbody>\n",
       "</table>\n",
       "<p>39766 rows × 6 columns</p>\n",
       "</div>"
      ],
      "text/plain": [
       "                                                     ID  habitats  labels  \\\n",
       "13625                        7426/valid/7426_F3_f000035      7426       1   \n",
       "26181                        7490/valid/7490_F4_f000159      7490       1   \n",
       "24443                        7482/valid/7482_F2_f000591      7482       1   \n",
       "2675                         7268/valid/7268_F1_f000556      7268       1   \n",
       "18005                       7463/empty/7463_NF4_f000665      7463       0   \n",
       "...                                                 ...       ...     ...   \n",
       "17326                       7463/empty/7463_NF3_f000461      7463       0   \n",
       "35029                 9894/empty/9894_no_fish_2_f000113      9894       0   \n",
       "28084                       7585/empty/7585_NF2_f000876      7585       0   \n",
       "33375  9866/valid/9866_acanthopagrus_and_caranx_f000204      9866       1   \n",
       "26928                        7490/valid/7490_F6_f000165      7490       1   \n",
       "\n",
       "      classes                                 frames  \\\n",
       "13625   valid                        7426_F3_f000035   \n",
       "26181   valid                        7490_F4_f000159   \n",
       "24443   valid                        7482_F2_f000591   \n",
       "2675    valid                        7268_F1_f000556   \n",
       "18005   empty                       7463_NF4_f000665   \n",
       "...       ...                                    ...   \n",
       "17326   empty                       7463_NF3_f000461   \n",
       "35029   empty                 9894_no_fish_2_f000113   \n",
       "28084   empty                       7585_NF2_f000876   \n",
       "33375   valid  9866_acanthopagrus_and_caranx_f000204   \n",
       "26928   valid                        7490_F6_f000165   \n",
       "\n",
       "                                                    file  \n",
       "13625                     7426/valid/7426_F3_f000035.jpg  \n",
       "26181                     7490/valid/7490_F4_f000159.jpg  \n",
       "24443                     7482/valid/7482_F2_f000591.jpg  \n",
       "2675                      7268/valid/7268_F1_f000556.jpg  \n",
       "18005                    7463/empty/7463_NF4_f000665.jpg  \n",
       "...                                                  ...  \n",
       "17326                    7463/empty/7463_NF3_f000461.jpg  \n",
       "35029              9894/empty/9894_no_fish_2_f000113.jpg  \n",
       "28084                    7585/empty/7585_NF2_f000876.jpg  \n",
       "33375  9866/valid/9866_acanthopagrus_and_caranx_f0002...  \n",
       "26928                     7490/valid/7490_F6_f000165.jpg  \n",
       "\n",
       "[39766 rows x 6 columns]"
      ]
     },
     "execution_count": 6,
     "metadata": {},
     "output_type": "execute_result"
    }
   ],
   "source": [
    "df = pd.read_csv(\"C:/Users/seanh/Desktop/E4E/maestro/data/DeepFish/Classification/classification.csv\")\n",
    "df = df.sample(frac = 1)\n",
    "df[\"file\"] = df[\"ID\"] + \".jpg\"\n",
    "df"
   ]
  },
  {
   "cell_type": "code",
   "execution_count": 7,
   "metadata": {},
   "outputs": [
    {
     "data": {
      "text/plain": [
       "(labels\n",
       " 0    22357\n",
       " 1    17409\n",
       " Name: count, dtype: int64,\n",
       " (39766, 6),\n",
       " 39766)"
      ]
     },
     "execution_count": 7,
     "metadata": {},
     "output_type": "execute_result"
    }
   ],
   "source": [
    "df[\"labels\"].value_counts(), df.shape, 22357 + 17409"
   ]
  },
  {
   "cell_type": "code",
   "execution_count": 8,
   "metadata": {},
   "outputs": [],
   "source": [
    " from tqdm import tqdm"
   ]
  },
  {
   "cell_type": "code",
   "execution_count": 9,
   "metadata": {},
   "outputs": [
    {
     "name": "stderr",
     "output_type": "stream",
     "text": [
      "c:\\Users\\seanh\\Desktop\\E4E\\maestro\\model_trainer\\model_trainer\\model.py:85: FutureWarning: You are using `torch.load` with `weights_only=False` (the current default value), which uses the default pickle module implicitly. It is possible to construct malicious pickle data which will execute arbitrary code during unpickling (See https://github.com/pytorch/pytorch/blob/main/SECURITY.md#untrusted-models for more details). In a future release, the default value for `weights_only` will be flipped to `True`. This limits the functions that could be executed during unpickling. Arbitrary objects will no longer be allowed to be loaded via this mode unless they are explicitly allowlisted by the user via `torch.serialization.add_safe_globals`. We recommend you start setting `weights_only=True` for any use case where you don't have full control of the loaded file. Please open an issue on GitHub for any issues related to this experimental feature.\n",
      "  self.checkpoint = torch.load(cfg[\"model_checkpoint\"])\n"
     ]
    }
   ],
   "source": [
    "trainer = Trainer(cfg, [\"hi\"])\n",
    "trainer.build()\n"
   ]
  },
  {
   "cell_type": "code",
   "execution_count": 10,
   "metadata": {},
   "outputs": [
    {
     "name": "stderr",
     "output_type": "stream",
     "text": [
      "923it [1:48:29,  7.05s/it]\n"
     ]
    },
    {
     "ename": "KeyboardInterrupt",
     "evalue": "",
     "output_type": "error",
     "traceback": [
      "\u001b[1;31m---------------------------------------------------------------------------\u001b[0m",
      "\u001b[1;31mKeyboardInterrupt\u001b[0m                         Traceback (most recent call last)",
      "Cell \u001b[1;32mIn[10], line 12\u001b[0m\n\u001b[0;32m     10\u001b[0m trainer \u001b[38;5;241m=\u001b[39m Trainer(cfg, data)\n\u001b[0;32m     11\u001b[0m trainer\u001b[38;5;241m.\u001b[39mbuild()\n\u001b[1;32m---> 12\u001b[0m loss\u001b[38;5;241m.\u001b[39mappend(\u001b[43mtrainer\u001b[49m\u001b[38;5;241;43m.\u001b[39;49m\u001b[43mtrain\u001b[49m\u001b[43m(\u001b[49m\u001b[43m)\u001b[49m)\n\u001b[0;32m     13\u001b[0m \u001b[38;5;28;01mdel\u001b[39;00m trainer\n\u001b[0;32m     14\u001b[0m data \u001b[38;5;241m=\u001b[39m []\n",
      "File \u001b[1;32mc:\\Users\\seanh\\Desktop\\E4E\\maestro\\model_trainer\\model_trainer\\model.py:44\u001b[0m, in \u001b[0;36mTrainer.train\u001b[1;34m(self)\u001b[0m\n\u001b[0;32m     41\u001b[0m         loss\u001b[38;5;241m.\u001b[39mbackward()\n\u001b[0;32m     42\u001b[0m         optimizer\u001b[38;5;241m.\u001b[39mstep()\n\u001b[1;32m---> 44\u001b[0m         loss_sum \u001b[38;5;241m+\u001b[39m\u001b[38;5;241m=\u001b[39m \u001b[43mloss\u001b[49m\u001b[38;5;241;43m.\u001b[39;49m\u001b[43mitem\u001b[49m\u001b[43m(\u001b[49m\u001b[43m)\u001b[49m\u001b[38;5;66;03m#.cpu()\u001b[39;00m\n\u001b[0;32m     46\u001b[0m adv_loss \u001b[38;5;241m=\u001b[39m loss_sum\u001b[38;5;241m/\u001b[39mcount\n\u001b[0;32m     47\u001b[0m \u001b[38;5;66;03m#print(adv_loss)\u001b[39;00m\n",
      "\u001b[1;31mKeyboardInterrupt\u001b[0m: "
     ]
    }
   ],
   "source": [
    "num_errors = 0\n",
    "loss = []\n",
    "data = []\n",
    "for index, row in tqdm(df.iterrows()):\n",
    "    data.append({\n",
    "        \"file_path\": row[\"file\"],\n",
    "        \"label\": row[\"labels\"]\n",
    "    })\n",
    "    if len(data) >= 2:\n",
    "        trainer = Trainer(cfg, data)\n",
    "        trainer.build()\n",
    "        loss.append(trainer.train())\n",
    "        del trainer\n",
    "        data = []\n",
    "    \n",
    "    "
   ]
  },
  {
   "cell_type": "code",
   "execution_count": 14,
   "metadata": {},
   "outputs": [
    {
     "data": {
      "image/png": "[encoded data removed]",
      "text/plain": [
       "<Figure size 640x480 with 1 Axes>"
      ]
     },
     "metadata": {},
     "output_type": "display_data"
    }
   ],
   "source": [
    "# importing required packages \n",
    "import numpy as np\n",
    "import matplotlib.pyplot as plt\n",
    "# To generate random data for plotting\n",
    "axisX = np.linspace(1, 15, 50)\n",
    "axisY = np.sin(axisX)\n",
    "# To create the line graph from above data\n",
    "def moving_average(x, w):\n",
    "    return np.convolve(x, np.ones(w), 'valid') / w\n",
    "plt.plot(moving_average(loss, 5))\n",
    "# Adding title and labels for the graph\n",
    "plt.title('Loss Over Iterations with Rolling Avg of Window 5')\n",
    "plt.xlabel('iterations')\n",
    "plt.ylabel('Loss')\n",
    "# to show the final graph\n",
    "plt.show()"
   ]
  },
  {
   "cell_type": "code",
   "execution_count": null,
   "metadata": {},
   "outputs": [],
   "source": []
  }
 ],
 "metadata": {
  "kernelspec": {
   "display_name": "asid",
   "language": "python",
   "name": "python3"
  },
  "language_info": {
   "codemirror_mode": {
    "name": "ipython",
    "version": 3
   },
   "file_extension": ".py",
   "mimetype": "text/x-python",
   "name": "python",
   "nbconvert_exporter": "python",
   "pygments_lexer": "ipython3",
   "version": "3.9.19"
  }
 },
 "nbformat": 4,
 "nbformat_minor": 2
}
